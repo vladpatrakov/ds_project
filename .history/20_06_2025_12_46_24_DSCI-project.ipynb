{
 "cells": [
  {
   "cell_type": "markdown",
   "id": "d9b1590c-c8fd-4334-b10d-d778d64e772e",
   "metadata": {},
   "source": [
    "# Individual project on Minecraft data"
   ]
  },
  {
   "cell_type": "markdown",
   "id": "02c5f83f-be96-434b-8265-4d4cd3ba6c44",
   "metadata": {},
   "source": [
    "## 1: Explore Datasets - Preliminary"
   ]
  },
  {
   "cell_type": "markdown",
   "id": "95cbfd72-ba29-4241-9abc-477c1a9c8d1a",
   "metadata": {},
   "source": [
    "Lets start with loading two given data files and looking ehat information we have to work with "
   ]
  },
  {
   "cell_type": "code",
   "execution_count": null,
   "id": "340020b7-d27a-497b-9eb2-77373015bf46",
   "metadata": {},
   "outputs": [],
   "source": [
    "library(tidyverse)"
   ]
  },
  {
   "cell_type": "code",
   "execution_count": null,
   "id": "158a5f85-9abd-4a2e-b220-c0e65514002e",
   "metadata": {},
   "outputs": [],
   "source": [
    "players_data <- read_csv(\"data/players.csv\")\n",
    "sessions_data <- read_csv(\"data/sessions.csv\")"
   ]
  },
  {
   "cell_type": "code",
   "execution_count": null,
   "id": "2d111f81-424e-46fd-b2d9-210093abf6fa",
   "metadata": {},
   "outputs": [],
   "source": [
    "print(players_data)\n",
    "print(sessions_data)"
   ]
  },
  {
   "cell_type": "markdown",
   "id": "e19a28f4-9cc7-4f8e-b3ec-41c909f0c93d",
   "metadata": {},
   "source": [
    "*Some comments on data:*\n",
    "\n",
    "players.csv contains information about all players that joined a server. There are 196 unique players and each of them has information on their experience, subscribtoin, email, played hours, name, gender and age. Total 7 variables with 196 observations.\n",
    "\n",
    "sessions_data contains informationa about each play session that was initialized by any player. There are 1535 sessions and each one has the email of the player, start time, end time , and original start and end times. Overall there are 5 variables and 1535 observations in this data file.\n"
   ]
  },
  {
   "cell_type": "code",
   "execution_count": null,
   "id": "320d3103-6c65-4049-8fae-c8ecc97b4731",
   "metadata": {},
   "outputs": [],
   "source": []
  }
 ],
 "metadata": {
  "kernelspec": {
   "display_name": "R",
   "language": "R",
   "name": "ir"
  },
  "language_info": {
   "codemirror_mode": "r",
   "file_extension": ".r",
   "mimetype": "text/x-r-source",
   "name": "R",
   "pygments_lexer": "r",
   "version": "4.3.3"
  }
 },
 "nbformat": 4,
 "nbformat_minor": 5
}
