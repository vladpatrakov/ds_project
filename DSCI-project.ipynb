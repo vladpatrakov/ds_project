{
 "cells": [
  {
   "cell_type": "markdown",
   "id": "d9b1590c-c8fd-4334-b10d-d778d64e772e",
   "metadata": {},
   "source": [
    "# Individual project on Minecraft data"
   ]
  },
  {
   "cell_type": "markdown",
   "id": "02c5f83f-be96-434b-8265-4d4cd3ba6c44",
   "metadata": {},
   "source": [
    "## 1: Explore Datasets"
   ]
  },
  {
   "cell_type": "markdown",
   "id": "95cbfd72-ba29-4241-9abc-477c1a9c8d1a",
   "metadata": {},
   "source": [
    "Lets start with loading two given data files and looking ehat information we have to work with "
   ]
  },
  {
   "cell_type": "code",
   "execution_count": 2,
   "id": "340020b7-d27a-497b-9eb2-77373015bf46",
   "metadata": {},
   "outputs": [
    {
     "name": "stderr",
     "output_type": "stream",
     "text": [
      "── \u001b[1mAttaching core tidyverse packages\u001b[22m ──────────────────────── tidyverse 2.0.0 ──\n",
      "\u001b[32m✔\u001b[39m \u001b[34mdplyr    \u001b[39m 1.1.4     \u001b[32m✔\u001b[39m \u001b[34mreadr    \u001b[39m 2.1.5\n",
      "\u001b[32m✔\u001b[39m \u001b[34mforcats  \u001b[39m 1.0.0     \u001b[32m✔\u001b[39m \u001b[34mstringr  \u001b[39m 1.5.1\n",
      "\u001b[32m✔\u001b[39m \u001b[34mggplot2  \u001b[39m 3.5.1     \u001b[32m✔\u001b[39m \u001b[34mtibble   \u001b[39m 3.2.1\n",
      "\u001b[32m✔\u001b[39m \u001b[34mlubridate\u001b[39m 1.9.3     \u001b[32m✔\u001b[39m \u001b[34mtidyr    \u001b[39m 1.3.1\n",
      "\u001b[32m✔\u001b[39m \u001b[34mpurrr    \u001b[39m 1.0.2     \n",
      "── \u001b[1mConflicts\u001b[22m ────────────────────────────────────────── tidyverse_conflicts() ──\n",
      "\u001b[31m✖\u001b[39m \u001b[34mdplyr\u001b[39m::\u001b[32mfilter()\u001b[39m masks \u001b[34mstats\u001b[39m::filter()\n",
      "\u001b[31m✖\u001b[39m \u001b[34mdplyr\u001b[39m::\u001b[32mlag()\u001b[39m    masks \u001b[34mstats\u001b[39m::lag()\n",
      "\u001b[36mℹ\u001b[39m Use the conflicted package (\u001b[3m\u001b[34m<http://conflicted.r-lib.org/>\u001b[39m\u001b[23m) to force all conflicts to become errors\n"
     ]
    }
   ],
   "source": [
    "library(tidyverse)"
   ]
  },
  {
   "cell_type": "code",
   "execution_count": 3,
   "id": "158a5f85-9abd-4a2e-b220-c0e65514002e",
   "metadata": {},
   "outputs": [
    {
     "name": "stderr",
     "output_type": "stream",
     "text": [
      "\u001b[1mRows: \u001b[22m\u001b[34m196\u001b[39m \u001b[1mColumns: \u001b[22m\u001b[34m7\u001b[39m\n",
      "\u001b[36m──\u001b[39m \u001b[1mColumn specification\u001b[22m \u001b[36m────────────────────────────────────────────────────────\u001b[39m\n",
      "\u001b[1mDelimiter:\u001b[22m \",\"\n",
      "\u001b[31mchr\u001b[39m (4): experience, hashedEmail, name, gender\n",
      "\u001b[32mdbl\u001b[39m (2): played_hours, Age\n",
      "\u001b[33mlgl\u001b[39m (1): subscribe\n",
      "\n",
      "\u001b[36mℹ\u001b[39m Use `spec()` to retrieve the full column specification for this data.\n",
      "\u001b[36mℹ\u001b[39m Specify the column types or set `show_col_types = FALSE` to quiet this message.\n",
      "\u001b[1mRows: \u001b[22m\u001b[34m1535\u001b[39m \u001b[1mColumns: \u001b[22m\u001b[34m5\u001b[39m\n",
      "\u001b[36m──\u001b[39m \u001b[1mColumn specification\u001b[22m \u001b[36m────────────────────────────────────────────────────────\u001b[39m\n",
      "\u001b[1mDelimiter:\u001b[22m \",\"\n",
      "\u001b[31mchr\u001b[39m (3): hashedEmail, start_time, end_time\n",
      "\u001b[32mdbl\u001b[39m (2): original_start_time, original_end_time\n",
      "\n",
      "\u001b[36mℹ\u001b[39m Use `spec()` to retrieve the full column specification for this data.\n",
      "\u001b[36mℹ\u001b[39m Specify the column types or set `show_col_types = FALSE` to quiet this message.\n"
     ]
    }
   ],
   "source": [
    "players_data <- read_csv(\"data/players.csv\")\n",
    "sessions_data <- read_csv(\"data/sessions.csv\")"
   ]
  },
  {
   "cell_type": "code",
   "execution_count": 6,
   "id": "2d111f81-424e-46fd-b2d9-210093abf6fa",
   "metadata": {},
   "outputs": [
    {
     "name": "stdout",
     "output_type": "stream",
     "text": [
      "\u001b[90m# A tibble: 196 × 7\u001b[39m\n",
      "   experience subscribe hashedEmail              played_hours name  gender   Age\n",
      "   \u001b[3m\u001b[90m<chr>\u001b[39m\u001b[23m      \u001b[3m\u001b[90m<lgl>\u001b[39m\u001b[23m     \u001b[3m\u001b[90m<chr>\u001b[39m\u001b[23m                           \u001b[3m\u001b[90m<dbl>\u001b[39m\u001b[23m \u001b[3m\u001b[90m<chr>\u001b[39m\u001b[23m \u001b[3m\u001b[90m<chr>\u001b[39m\u001b[23m  \u001b[3m\u001b[90m<dbl>\u001b[39m\u001b[23m\n",
      "\u001b[90m 1\u001b[39m Pro        TRUE      f6daba428a5e19a3d475748…         30.3 Morg… Male       9\n",
      "\u001b[90m 2\u001b[39m Veteran    TRUE      f3c813577c458ba0dfef809…          3.8 Chri… Male      17\n",
      "\u001b[90m 3\u001b[39m Veteran    FALSE     b674dd7ee0d24096d1c0196…          0   Blake Male      17\n",
      "\u001b[90m 4\u001b[39m Amateur    TRUE      23fe711e0e3b77f1da7aa22…          0.7 Flora Female    21\n",
      "\u001b[90m 5\u001b[39m Regular    TRUE      7dc01f10bf20671ecfccdac…          0.1 Kylie Male      21\n",
      "\u001b[90m 6\u001b[39m Amateur    TRUE      f58aad5996a435f16b0284a…          0   Adri… Female    17\n",
      "\u001b[90m 7\u001b[39m Regular    TRUE      8e594b8953193b26f498db9…          0   Luna  Female    19\n",
      "\u001b[90m 8\u001b[39m Amateur    FALSE     1d2371d8a35c8831034b25b…          0   Emer… Male      21\n",
      "\u001b[90m 9\u001b[39m Amateur    TRUE      8b71f4d66a38389b7528bb3…          0.1 Nata… Male      17\n",
      "\u001b[90m10\u001b[39m Veteran    TRUE      bbe2d83de678f519c4b3daa…          0   Nyla  Female    22\n",
      "\u001b[90m# ℹ 186 more rows\u001b[39m\n",
      "\u001b[90m# A tibble: 1,535 × 5\u001b[39m\n",
      "   hashedEmail         start_time end_time original_start_time original_end_time\n",
      "   \u001b[3m\u001b[90m<chr>\u001b[39m\u001b[23m               \u001b[3m\u001b[90m<chr>\u001b[39m\u001b[23m      \u001b[3m\u001b[90m<chr>\u001b[39m\u001b[23m                  \u001b[3m\u001b[90m<dbl>\u001b[39m\u001b[23m             \u001b[3m\u001b[90m<dbl>\u001b[39m\u001b[23m\n",
      "\u001b[90m 1\u001b[39m bfce39c89d6549f2bb… 30/06/202… 30/06/2…       1\u001b[4m7\u001b[24m\u001b[4m1\u001b[24m\u001b[4m9\u001b[24m770\u001b[4m0\u001b[24m\u001b[4m0\u001b[24m\u001b[4m0\u001b[24m000     1\u001b[4m7\u001b[24m\u001b[4m1\u001b[24m\u001b[4m9\u001b[24m770\u001b[4m0\u001b[24m\u001b[4m0\u001b[24m\u001b[4m0\u001b[24m000\n",
      "\u001b[90m 2\u001b[39m 36d9cbb4c6bc0c1a69… 17/06/202… 17/06/2…       1\u001b[4m7\u001b[24m\u001b[4m1\u001b[24m\u001b[4m8\u001b[24m670\u001b[4m0\u001b[24m\u001b[4m0\u001b[24m\u001b[4m0\u001b[24m000     1\u001b[4m7\u001b[24m\u001b[4m1\u001b[24m\u001b[4m8\u001b[24m670\u001b[4m0\u001b[24m\u001b[4m0\u001b[24m\u001b[4m0\u001b[24m000\n",
      "\u001b[90m 3\u001b[39m f8f5477f5a2e53616a… 25/07/202… 25/07/2…       1\u001b[4m7\u001b[24m\u001b[4m2\u001b[24m\u001b[4m1\u001b[24m930\u001b[4m0\u001b[24m\u001b[4m0\u001b[24m\u001b[4m0\u001b[24m000     1\u001b[4m7\u001b[24m\u001b[4m2\u001b[24m\u001b[4m1\u001b[24m930\u001b[4m0\u001b[24m\u001b[4m0\u001b[24m\u001b[4m0\u001b[24m000\n",
      "\u001b[90m 4\u001b[39m bfce39c89d6549f2bb… 25/07/202… 25/07/2…       1\u001b[4m7\u001b[24m\u001b[4m2\u001b[24m\u001b[4m1\u001b[24m880\u001b[4m0\u001b[24m\u001b[4m0\u001b[24m\u001b[4m0\u001b[24m000     1\u001b[4m7\u001b[24m\u001b[4m2\u001b[24m\u001b[4m1\u001b[24m880\u001b[4m0\u001b[24m\u001b[4m0\u001b[24m\u001b[4m0\u001b[24m000\n",
      "\u001b[90m 5\u001b[39m 36d9cbb4c6bc0c1a69… 25/05/202… 25/05/2…       1\u001b[4m7\u001b[24m\u001b[4m1\u001b[24m\u001b[4m6\u001b[24m650\u001b[4m0\u001b[24m\u001b[4m0\u001b[24m\u001b[4m0\u001b[24m000     1\u001b[4m7\u001b[24m\u001b[4m1\u001b[24m\u001b[4m6\u001b[24m650\u001b[4m0\u001b[24m\u001b[4m0\u001b[24m\u001b[4m0\u001b[24m000\n",
      "\u001b[90m 6\u001b[39m bfce39c89d6549f2bb… 23/06/202… 23/06/2…       1\u001b[4m7\u001b[24m\u001b[4m1\u001b[24m\u001b[4m9\u001b[24m160\u001b[4m0\u001b[24m\u001b[4m0\u001b[24m\u001b[4m0\u001b[24m000     1\u001b[4m7\u001b[24m\u001b[4m1\u001b[24m\u001b[4m9\u001b[24m160\u001b[4m0\u001b[24m\u001b[4m0\u001b[24m\u001b[4m0\u001b[24m000\n",
      "\u001b[90m 7\u001b[39m fd6563a4e0f6f42735… 15/04/202… 15/04/2…       1\u001b[4m7\u001b[24m\u001b[4m1\u001b[24m\u001b[4m3\u001b[24m170\u001b[4m0\u001b[24m\u001b[4m0\u001b[24m\u001b[4m0\u001b[24m000     1\u001b[4m7\u001b[24m\u001b[4m1\u001b[24m\u001b[4m3\u001b[24m170\u001b[4m0\u001b[24m\u001b[4m0\u001b[24m\u001b[4m0\u001b[24m000\n",
      "\u001b[90m 8\u001b[39m ad6390295640af1ed0… 21/09/202… 21/09/2…       1\u001b[4m7\u001b[24m\u001b[4m2\u001b[24m\u001b[4m6\u001b[24m880\u001b[4m0\u001b[24m\u001b[4m0\u001b[24m\u001b[4m0\u001b[24m000     1\u001b[4m7\u001b[24m\u001b[4m2\u001b[24m\u001b[4m6\u001b[24m890\u001b[4m0\u001b[24m\u001b[4m0\u001b[24m\u001b[4m0\u001b[24m000\n",
      "\u001b[90m 9\u001b[39m 96e190b0bf3923cd8d… 21/06/202… 21/06/2…       1\u001b[4m7\u001b[24m\u001b[4m1\u001b[24m\u001b[4m8\u001b[24m940\u001b[4m0\u001b[24m\u001b[4m0\u001b[24m\u001b[4m0\u001b[24m000     1\u001b[4m7\u001b[24m\u001b[4m1\u001b[24m\u001b[4m8\u001b[24m940\u001b[4m0\u001b[24m\u001b[4m0\u001b[24m\u001b[4m0\u001b[24m000\n",
      "\u001b[90m10\u001b[39m 36d9cbb4c6bc0c1a69… 16/05/202… 16/05/2…       1\u001b[4m7\u001b[24m\u001b[4m1\u001b[24m\u001b[4m5\u001b[24m840\u001b[4m0\u001b[24m\u001b[4m0\u001b[24m\u001b[4m0\u001b[24m000     1\u001b[4m7\u001b[24m\u001b[4m1\u001b[24m\u001b[4m5\u001b[24m840\u001b[4m0\u001b[24m\u001b[4m0\u001b[24m\u001b[4m0\u001b[24m000\n",
      "\u001b[90m# ℹ 1,525 more rows\u001b[39m\n"
     ]
    }
   ],
   "source": [
    "print(players_data)\n",
    "print(sessions_data)"
   ]
  },
  {
   "cell_type": "markdown",
   "id": "e19a28f4-9cc7-4f8e-b3ec-41c909f0c93d",
   "metadata": {},
   "source": [
    "*Some comments on data:*\n",
    "\n",
    "- players.csv contains information about all players that joined a server. There are 196 unique players and each of them has information on their experience, subscribtoin, email, played hours, name, gender and age. Total 7 variables with 196 observations.\n",
    "\n",
    "- sessions_data contains informationa about each play session that was initialized by any player. There are 1535 sessions and each one has the email of the player, start time, end time , and original start and end times. Overall there are 5 variables and 1535 observations in this data file.\n"
   ]
  },
  {
   "cell_type": "code",
   "execution_count": null,
   "id": "320d3103-6c65-4049-8fae-c8ecc97b4731",
   "metadata": {},
   "outputs": [],
   "source": []
  }
 ],
 "metadata": {
  "kernelspec": {
   "display_name": "R",
   "language": "R",
   "name": "ir"
  },
  "language_info": {
   "codemirror_mode": "r",
   "file_extension": ".r",
   "mimetype": "text/x-r-source",
   "name": "R",
   "pygments_lexer": "r",
   "version": "4.3.3"
  }
 },
 "nbformat": 4,
 "nbformat_minor": 5
}
